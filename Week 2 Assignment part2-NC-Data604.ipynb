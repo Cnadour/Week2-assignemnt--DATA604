{
 "cells": [
  {
   "cell_type": "code",
   "execution_count": 25,
   "id": "9541896b-c4ae-460f-aa4c-590c8350760a",
   "metadata": {},
   "outputs": [],
   "source": [
    "#Modeling and Simulation in Python\n",
    "\n",
    "# Configure Jupyter so figures appear in the notebook\n",
    "%matplotlib inline\n",
    "# Configure Jupyter to display the assigned value after an assignment\n",
    "%config InteractiveShell.ast_node_interactivity='last_expr_or_assign'\n",
    "# import functions from the modsim.py module\n",
    "from modsim import *\n"
   ]
  },
  {
   "cell_type": "code",
   "execution_count": 26,
   "id": "8b54c56b-3f75-4019-b088-22febfc6f946",
   "metadata": {},
   "outputs": [],
   "source": [
    "from pandas import read_html"
   ]
  },
  {
   "cell_type": "code",
   "execution_count": 27,
   "id": "3e6ca188-b23a-423d-b041-7afa166cb89d",
   "metadata": {},
   "outputs": [
    {
     "data": {
      "text/plain": [
       "6"
      ]
     },
     "execution_count": 27,
     "metadata": {},
     "output_type": "execute_result"
    }
   ],
   "source": [
    "URL = 'https://en.wikipedia.org/wiki/World_population_estimates'\n",
    "tables = pd.read_html(URL)\n",
    "len(tables)"
   ]
  },
  {
   "cell_type": "code",
   "execution_count": 28,
   "id": "dee66f8e-b195-4365-927c-bb8fcb44e02f",
   "metadata": {},
   "outputs": [
    {
     "data": {
      "text/html": [
       "<div>\n",
       "<style scoped>\n",
       "    .dataframe tbody tr th:only-of-type {\n",
       "        vertical-align: middle;\n",
       "    }\n",
       "\n",
       "    .dataframe tbody tr th {\n",
       "        vertical-align: top;\n",
       "    }\n",
       "\n",
       "    .dataframe thead th {\n",
       "        text-align: right;\n",
       "    }\n",
       "</style>\n",
       "<table border=\"1\" class=\"dataframe\">\n",
       "  <thead>\n",
       "    <tr style=\"text-align: right;\">\n",
       "      <th></th>\n",
       "      <th>Year</th>\n",
       "      <th>United States Census Bureau (2017)[29]</th>\n",
       "      <th>Population Reference Bureau (1973–2016)[15]</th>\n",
       "      <th>United Nations Department of Economic and Social Affairs (2015)[16]</th>\n",
       "      <th>Maddison (2008)[17]</th>\n",
       "      <th>HYDE (2007)[25]</th>\n",
       "      <th>Tanton (1994)[19]</th>\n",
       "      <th>Biraben (1980)[20]</th>\n",
       "      <th>McEvedy &amp; Jones (1978)[21]</th>\n",
       "      <th>Thomlinson (1975)[22]</th>\n",
       "      <th>Durand (1974)[23]</th>\n",
       "      <th>Clark (1967)[24]</th>\n",
       "    </tr>\n",
       "  </thead>\n",
       "  <tbody>\n",
       "    <tr>\n",
       "      <th>0</th>\n",
       "      <td>1950</td>\n",
       "      <td>2557628654</td>\n",
       "      <td>2.516000e+09</td>\n",
       "      <td>2.525149e+09</td>\n",
       "      <td>2.544000e+09</td>\n",
       "      <td>2.527960e+09</td>\n",
       "      <td>2.400000e+09</td>\n",
       "      <td>2.527000e+09</td>\n",
       "      <td>2.500000e+09</td>\n",
       "      <td>2.400000e+09</td>\n",
       "      <td>NaN</td>\n",
       "      <td>2.486000e+09</td>\n",
       "    </tr>\n",
       "    <tr>\n",
       "      <th>1</th>\n",
       "      <td>1951</td>\n",
       "      <td>2594939877</td>\n",
       "      <td>NaN</td>\n",
       "      <td>2.572851e+09</td>\n",
       "      <td>2.571663e+09</td>\n",
       "      <td>NaN</td>\n",
       "      <td>NaN</td>\n",
       "      <td>NaN</td>\n",
       "      <td>NaN</td>\n",
       "      <td>NaN</td>\n",
       "      <td>NaN</td>\n",
       "      <td>NaN</td>\n",
       "    </tr>\n",
       "    <tr>\n",
       "      <th>2</th>\n",
       "      <td>1952</td>\n",
       "      <td>2636772306</td>\n",
       "      <td>NaN</td>\n",
       "      <td>2.619292e+09</td>\n",
       "      <td>2.617949e+09</td>\n",
       "      <td>NaN</td>\n",
       "      <td>NaN</td>\n",
       "      <td>NaN</td>\n",
       "      <td>NaN</td>\n",
       "      <td>NaN</td>\n",
       "      <td>NaN</td>\n",
       "      <td>NaN</td>\n",
       "    </tr>\n",
       "    <tr>\n",
       "      <th>3</th>\n",
       "      <td>1953</td>\n",
       "      <td>2682053389</td>\n",
       "      <td>NaN</td>\n",
       "      <td>2.665865e+09</td>\n",
       "      <td>2.665959e+09</td>\n",
       "      <td>NaN</td>\n",
       "      <td>NaN</td>\n",
       "      <td>NaN</td>\n",
       "      <td>NaN</td>\n",
       "      <td>NaN</td>\n",
       "      <td>NaN</td>\n",
       "      <td>NaN</td>\n",
       "    </tr>\n",
       "    <tr>\n",
       "      <th>4</th>\n",
       "      <td>1954</td>\n",
       "      <td>2730228104</td>\n",
       "      <td>NaN</td>\n",
       "      <td>2.713172e+09</td>\n",
       "      <td>2.716927e+09</td>\n",
       "      <td>NaN</td>\n",
       "      <td>NaN</td>\n",
       "      <td>NaN</td>\n",
       "      <td>NaN</td>\n",
       "      <td>NaN</td>\n",
       "      <td>NaN</td>\n",
       "      <td>NaN</td>\n",
       "    </tr>\n",
       "  </tbody>\n",
       "</table>\n",
       "</div>"
      ],
      "text/plain": [
       "   Year  United States Census Bureau (2017)[29]  \\\n",
       "0  1950                              2557628654   \n",
       "1  1951                              2594939877   \n",
       "2  1952                              2636772306   \n",
       "3  1953                              2682053389   \n",
       "4  1954                              2730228104   \n",
       "\n",
       "   Population Reference Bureau (1973–2016)[15]  \\\n",
       "0                                 2.516000e+09   \n",
       "1                                          NaN   \n",
       "2                                          NaN   \n",
       "3                                          NaN   \n",
       "4                                          NaN   \n",
       "\n",
       "   United Nations Department of Economic and Social Affairs (2015)[16]  \\\n",
       "0                                       2.525149e+09                     \n",
       "1                                       2.572851e+09                     \n",
       "2                                       2.619292e+09                     \n",
       "3                                       2.665865e+09                     \n",
       "4                                       2.713172e+09                     \n",
       "\n",
       "   Maddison (2008)[17]  HYDE (2007)[25]  Tanton (1994)[19]  \\\n",
       "0         2.544000e+09     2.527960e+09       2.400000e+09   \n",
       "1         2.571663e+09              NaN                NaN   \n",
       "2         2.617949e+09              NaN                NaN   \n",
       "3         2.665959e+09              NaN                NaN   \n",
       "4         2.716927e+09              NaN                NaN   \n",
       "\n",
       "   Biraben (1980)[20]  McEvedy & Jones (1978)[21]  Thomlinson (1975)[22]  \\\n",
       "0        2.527000e+09                2.500000e+09           2.400000e+09   \n",
       "1                 NaN                         NaN                    NaN   \n",
       "2                 NaN                         NaN                    NaN   \n",
       "3                 NaN                         NaN                    NaN   \n",
       "4                 NaN                         NaN                    NaN   \n",
       "\n",
       "  Durand (1974)[23]  Clark (1967)[24]  \n",
       "0               NaN      2.486000e+09  \n",
       "1               NaN               NaN  \n",
       "2               NaN               NaN  \n",
       "3               NaN               NaN  \n",
       "4               NaN               NaN  "
      ]
     },
     "execution_count": 28,
     "metadata": {},
     "output_type": "execute_result"
    }
   ],
   "source": [
    "table2 = tables[2]\n",
    "table2.head()"
   ]
  },
  {
   "cell_type": "code",
   "execution_count": 29,
   "id": "e1900745-70e9-48f9-bc95-d28d9e217139",
   "metadata": {},
   "outputs": [
    {
     "data": {
      "text/html": [
       "<div>\n",
       "<style scoped>\n",
       "    .dataframe tbody tr th:only-of-type {\n",
       "        vertical-align: middle;\n",
       "    }\n",
       "\n",
       "    .dataframe tbody tr th {\n",
       "        vertical-align: top;\n",
       "    }\n",
       "\n",
       "    .dataframe thead th {\n",
       "        text-align: right;\n",
       "    }\n",
       "</style>\n",
       "<table border=\"1\" class=\"dataframe\">\n",
       "  <thead>\n",
       "    <tr style=\"text-align: right;\">\n",
       "      <th></th>\n",
       "      <th>Year</th>\n",
       "      <th>United States Census Bureau (2017)[29]</th>\n",
       "      <th>Population Reference Bureau (1973–2016)[15]</th>\n",
       "      <th>United Nations Department of Economic and Social Affairs (2015)[16]</th>\n",
       "      <th>Maddison (2008)[17]</th>\n",
       "      <th>HYDE (2007)[25]</th>\n",
       "      <th>Tanton (1994)[19]</th>\n",
       "      <th>Biraben (1980)[20]</th>\n",
       "      <th>McEvedy &amp; Jones (1978)[21]</th>\n",
       "      <th>Thomlinson (1975)[22]</th>\n",
       "      <th>Durand (1974)[23]</th>\n",
       "      <th>Clark (1967)[24]</th>\n",
       "    </tr>\n",
       "  </thead>\n",
       "  <tbody>\n",
       "    <tr>\n",
       "      <th>62</th>\n",
       "      <td>2012</td>\n",
       "      <td>7013871313</td>\n",
       "      <td>7.057075e+09</td>\n",
       "      <td>7.080072e+09</td>\n",
       "      <td>NaN</td>\n",
       "      <td>NaN</td>\n",
       "      <td>NaN</td>\n",
       "      <td>NaN</td>\n",
       "      <td>NaN</td>\n",
       "      <td>NaN</td>\n",
       "      <td>NaN</td>\n",
       "      <td>NaN</td>\n",
       "    </tr>\n",
       "    <tr>\n",
       "      <th>63</th>\n",
       "      <td>2013</td>\n",
       "      <td>7092128094</td>\n",
       "      <td>7.136796e+09</td>\n",
       "      <td>7.162119e+09</td>\n",
       "      <td>NaN</td>\n",
       "      <td>NaN</td>\n",
       "      <td>NaN</td>\n",
       "      <td>NaN</td>\n",
       "      <td>NaN</td>\n",
       "      <td>NaN</td>\n",
       "      <td>NaN</td>\n",
       "      <td>NaN</td>\n",
       "    </tr>\n",
       "    <tr>\n",
       "      <th>64</th>\n",
       "      <td>2014</td>\n",
       "      <td>7169968185</td>\n",
       "      <td>7.238184e+09</td>\n",
       "      <td>7.243784e+09</td>\n",
       "      <td>NaN</td>\n",
       "      <td>NaN</td>\n",
       "      <td>NaN</td>\n",
       "      <td>NaN</td>\n",
       "      <td>NaN</td>\n",
       "      <td>NaN</td>\n",
       "      <td>NaN</td>\n",
       "      <td>NaN</td>\n",
       "    </tr>\n",
       "    <tr>\n",
       "      <th>65</th>\n",
       "      <td>2015</td>\n",
       "      <td>7247892788</td>\n",
       "      <td>7.336435e+09</td>\n",
       "      <td>7.349472e+09</td>\n",
       "      <td>NaN</td>\n",
       "      <td>NaN</td>\n",
       "      <td>NaN</td>\n",
       "      <td>NaN</td>\n",
       "      <td>NaN</td>\n",
       "      <td>NaN</td>\n",
       "      <td>NaN</td>\n",
       "      <td>NaN</td>\n",
       "    </tr>\n",
       "    <tr>\n",
       "      <th>66</th>\n",
       "      <td>2016</td>\n",
       "      <td>7325996709</td>\n",
       "      <td>7.418152e+09</td>\n",
       "      <td>NaN</td>\n",
       "      <td>NaN</td>\n",
       "      <td>NaN</td>\n",
       "      <td>NaN</td>\n",
       "      <td>NaN</td>\n",
       "      <td>NaN</td>\n",
       "      <td>NaN</td>\n",
       "      <td>NaN</td>\n",
       "      <td>NaN</td>\n",
       "    </tr>\n",
       "  </tbody>\n",
       "</table>\n",
       "</div>"
      ],
      "text/plain": [
       "    Year  United States Census Bureau (2017)[29]  \\\n",
       "62  2012                              7013871313   \n",
       "63  2013                              7092128094   \n",
       "64  2014                              7169968185   \n",
       "65  2015                              7247892788   \n",
       "66  2016                              7325996709   \n",
       "\n",
       "    Population Reference Bureau (1973–2016)[15]  \\\n",
       "62                                 7.057075e+09   \n",
       "63                                 7.136796e+09   \n",
       "64                                 7.238184e+09   \n",
       "65                                 7.336435e+09   \n",
       "66                                 7.418152e+09   \n",
       "\n",
       "    United Nations Department of Economic and Social Affairs (2015)[16]  \\\n",
       "62                                       7.080072e+09                     \n",
       "63                                       7.162119e+09                     \n",
       "64                                       7.243784e+09                     \n",
       "65                                       7.349472e+09                     \n",
       "66                                                NaN                     \n",
       "\n",
       "    Maddison (2008)[17]  HYDE (2007)[25]  Tanton (1994)[19]  \\\n",
       "62                  NaN              NaN                NaN   \n",
       "63                  NaN              NaN                NaN   \n",
       "64                  NaN              NaN                NaN   \n",
       "65                  NaN              NaN                NaN   \n",
       "66                  NaN              NaN                NaN   \n",
       "\n",
       "    Biraben (1980)[20]  McEvedy & Jones (1978)[21]  Thomlinson (1975)[22]  \\\n",
       "62                 NaN                         NaN                    NaN   \n",
       "63                 NaN                         NaN                    NaN   \n",
       "64                 NaN                         NaN                    NaN   \n",
       "65                 NaN                         NaN                    NaN   \n",
       "66                 NaN                         NaN                    NaN   \n",
       "\n",
       "   Durand (1974)[23]  Clark (1967)[24]  \n",
       "62               NaN               NaN  \n",
       "63               NaN               NaN  \n",
       "64               NaN               NaN  \n",
       "65               NaN               NaN  \n",
       "66               NaN               NaN  "
      ]
     },
     "execution_count": 29,
     "metadata": {},
     "output_type": "execute_result"
    }
   ],
   "source": [
    "table2.tail()"
   ]
  },
  {
   "cell_type": "code",
   "execution_count": 30,
   "id": "919bb02d-15ce-4a30-ba41-b28f6f343802",
   "metadata": {},
   "outputs": [],
   "source": [
    "table2 = tables[2]\n",
    "table2.head()\n",
    "table2.columns = ['year','census', 'prb', 'un', 'maddison', \n",
    "                  'hyde', 'tanton', 'biraben', 'mj', \n",
    "                  'thomlinson', 'durand', 'clark']"
   ]
  },
  {
   "cell_type": "code",
   "execution_count": 31,
   "id": "2d2f4337-3bfb-4c58-92a9-af76bd088edc",
   "metadata": {},
   "outputs": [
    {
     "data": {
      "text/html": [
       "<div>\n",
       "<style scoped>\n",
       "    .dataframe tbody tr th:only-of-type {\n",
       "        vertical-align: middle;\n",
       "    }\n",
       "\n",
       "    .dataframe tbody tr th {\n",
       "        vertical-align: top;\n",
       "    }\n",
       "\n",
       "    .dataframe thead th {\n",
       "        text-align: right;\n",
       "    }\n",
       "</style>\n",
       "<table border=\"1\" class=\"dataframe\">\n",
       "  <thead>\n",
       "    <tr style=\"text-align: right;\">\n",
       "      <th></th>\n",
       "      <th>year</th>\n",
       "      <th>census</th>\n",
       "      <th>prb</th>\n",
       "      <th>un</th>\n",
       "      <th>maddison</th>\n",
       "      <th>hyde</th>\n",
       "      <th>tanton</th>\n",
       "      <th>biraben</th>\n",
       "      <th>mj</th>\n",
       "      <th>thomlinson</th>\n",
       "      <th>durand</th>\n",
       "      <th>clark</th>\n",
       "    </tr>\n",
       "  </thead>\n",
       "  <tbody>\n",
       "    <tr>\n",
       "      <th>0</th>\n",
       "      <td>1950</td>\n",
       "      <td>2557628654</td>\n",
       "      <td>2.516000e+09</td>\n",
       "      <td>2.525149e+09</td>\n",
       "      <td>2.544000e+09</td>\n",
       "      <td>2.527960e+09</td>\n",
       "      <td>2.400000e+09</td>\n",
       "      <td>2.527000e+09</td>\n",
       "      <td>2.500000e+09</td>\n",
       "      <td>2.400000e+09</td>\n",
       "      <td>NaN</td>\n",
       "      <td>2.486000e+09</td>\n",
       "    </tr>\n",
       "    <tr>\n",
       "      <th>1</th>\n",
       "      <td>1951</td>\n",
       "      <td>2594939877</td>\n",
       "      <td>NaN</td>\n",
       "      <td>2.572851e+09</td>\n",
       "      <td>2.571663e+09</td>\n",
       "      <td>NaN</td>\n",
       "      <td>NaN</td>\n",
       "      <td>NaN</td>\n",
       "      <td>NaN</td>\n",
       "      <td>NaN</td>\n",
       "      <td>NaN</td>\n",
       "      <td>NaN</td>\n",
       "    </tr>\n",
       "    <tr>\n",
       "      <th>2</th>\n",
       "      <td>1952</td>\n",
       "      <td>2636772306</td>\n",
       "      <td>NaN</td>\n",
       "      <td>2.619292e+09</td>\n",
       "      <td>2.617949e+09</td>\n",
       "      <td>NaN</td>\n",
       "      <td>NaN</td>\n",
       "      <td>NaN</td>\n",
       "      <td>NaN</td>\n",
       "      <td>NaN</td>\n",
       "      <td>NaN</td>\n",
       "      <td>NaN</td>\n",
       "    </tr>\n",
       "    <tr>\n",
       "      <th>3</th>\n",
       "      <td>1953</td>\n",
       "      <td>2682053389</td>\n",
       "      <td>NaN</td>\n",
       "      <td>2.665865e+09</td>\n",
       "      <td>2.665959e+09</td>\n",
       "      <td>NaN</td>\n",
       "      <td>NaN</td>\n",
       "      <td>NaN</td>\n",
       "      <td>NaN</td>\n",
       "      <td>NaN</td>\n",
       "      <td>NaN</td>\n",
       "      <td>NaN</td>\n",
       "    </tr>\n",
       "    <tr>\n",
       "      <th>4</th>\n",
       "      <td>1954</td>\n",
       "      <td>2730228104</td>\n",
       "      <td>NaN</td>\n",
       "      <td>2.713172e+09</td>\n",
       "      <td>2.716927e+09</td>\n",
       "      <td>NaN</td>\n",
       "      <td>NaN</td>\n",
       "      <td>NaN</td>\n",
       "      <td>NaN</td>\n",
       "      <td>NaN</td>\n",
       "      <td>NaN</td>\n",
       "      <td>NaN</td>\n",
       "    </tr>\n",
       "  </tbody>\n",
       "</table>\n",
       "</div>"
      ],
      "text/plain": [
       "   year      census           prb            un      maddison          hyde  \\\n",
       "0  1950  2557628654  2.516000e+09  2.525149e+09  2.544000e+09  2.527960e+09   \n",
       "1  1951  2594939877           NaN  2.572851e+09  2.571663e+09           NaN   \n",
       "2  1952  2636772306           NaN  2.619292e+09  2.617949e+09           NaN   \n",
       "3  1953  2682053389           NaN  2.665865e+09  2.665959e+09           NaN   \n",
       "4  1954  2730228104           NaN  2.713172e+09  2.716927e+09           NaN   \n",
       "\n",
       "         tanton       biraben            mj    thomlinson durand         clark  \n",
       "0  2.400000e+09  2.527000e+09  2.500000e+09  2.400000e+09    NaN  2.486000e+09  \n",
       "1           NaN           NaN           NaN           NaN    NaN           NaN  \n",
       "2           NaN           NaN           NaN           NaN    NaN           NaN  \n",
       "3           NaN           NaN           NaN           NaN    NaN           NaN  \n",
       "4           NaN           NaN           NaN           NaN    NaN           NaN  "
      ]
     },
     "execution_count": 31,
     "metadata": {},
     "output_type": "execute_result"
    }
   ],
   "source": [
    "table2.head()"
   ]
  },
  {
   "cell_type": "code",
   "execution_count": 32,
   "id": "649e2dfd-4779-4291-b0d8-781643a0e1a6",
   "metadata": {},
   "outputs": [
    {
     "data": {
      "text/plain": [
       "0    2557628654\n",
       "1    2594939877\n",
       "2    2636772306\n",
       "3    2682053389\n",
       "4    2730228104\n",
       "Name: census, dtype: int64"
      ]
     },
     "execution_count": 32,
     "metadata": {},
     "output_type": "execute_result"
    }
   ],
   "source": [
    "#Series\n",
    "census = table2.census\n",
    "census.head()\n"
   ]
  },
  {
   "cell_type": "code",
   "execution_count": 33,
   "id": "9e6e3a21-b794-47e3-8ce0-a6667b7b8edb",
   "metadata": {},
   "outputs": [
    {
     "data": {
      "text/plain": [
       "62    7013871313\n",
       "63    7092128094\n",
       "64    7169968185\n",
       "65    7247892788\n",
       "66    7325996709\n",
       "Name: census, dtype: int64"
      ]
     },
     "execution_count": 33,
     "metadata": {},
     "output_type": "execute_result"
    }
   ],
   "source": [
    "census.tail()"
   ]
  },
  {
   "cell_type": "code",
   "execution_count": 34,
   "id": "ba97b163-45a3-4438-8c67-329d93da4775",
   "metadata": {},
   "outputs": [
    {
     "data": {
      "text/plain": [
       "0    2.525149\n",
       "1    2.572851\n",
       "2    2.619292\n",
       "3    2.665865\n",
       "4    2.713172\n",
       "Name: un, dtype: float64"
      ]
     },
     "execution_count": 34,
     "metadata": {},
     "output_type": "execute_result"
    }
   ],
   "source": [
    "un = table2.un / 1e9\n",
    "un.head()"
   ]
  },
  {
   "cell_type": "code",
   "execution_count": 35,
   "id": "218cba18-dc42-4257-8b71-c1588fc9308c",
   "metadata": {},
   "outputs": [
    {
     "data": {
      "text/plain": [
       "0    2.557629\n",
       "1    2.594940\n",
       "2    2.636772\n",
       "3    2.682053\n",
       "4    2.730228\n",
       "Name: census, dtype: float64"
      ]
     },
     "execution_count": 35,
     "metadata": {},
     "output_type": "execute_result"
    }
   ],
   "source": [
    "census = table2.census / 1e9\n",
    "census.head()"
   ]
  },
  {
   "cell_type": "code",
   "execution_count": 36,
   "id": "29a62367-24f3-43e0-a314-594110e2e06d",
   "metadata": {},
   "outputs": [
    {
     "ename": "FileNotFoundError",
     "evalue": "[Errno 2] No such file or directory: 'figs/chap05-fig01.pdf'",
     "output_type": "error",
     "traceback": [
      "\u001b[1;31m---------------------------------------------------------------------------\u001b[0m",
      "\u001b[1;31mFileNotFoundError\u001b[0m                         Traceback (most recent call last)",
      "Cell \u001b[1;32mIn[36], line 8\u001b[0m\n\u001b[0;32m      3\u001b[0m plot(un, \u001b[38;5;124m'\u001b[39m\u001b[38;5;124m--\u001b[39m\u001b[38;5;124m'\u001b[39m, label\u001b[38;5;241m=\u001b[39m\u001b[38;5;124m'\u001b[39m\u001b[38;5;124mUN DESA\u001b[39m\u001b[38;5;124m'\u001b[39m)\n\u001b[0;32m      5\u001b[0m decorate(xlabel\u001b[38;5;241m=\u001b[39m\u001b[38;5;124m'\u001b[39m\u001b[38;5;124mYear\u001b[39m\u001b[38;5;124m'\u001b[39m,\n\u001b[0;32m      6\u001b[0m          ylabel\u001b[38;5;241m=\u001b[39m\u001b[38;5;124m'\u001b[39m\u001b[38;5;124mWorld population (billion)\u001b[39m\u001b[38;5;124m'\u001b[39m)\n\u001b[1;32m----> 8\u001b[0m savefig(\u001b[38;5;124m'\u001b[39m\u001b[38;5;124mfigs/chap05-fig01.pdf\u001b[39m\u001b[38;5;124m'\u001b[39m)\n",
      "File \u001b[1;32m~\\anaconda3\\Lib\\site-packages\\matplotlib\\pyplot.py:1119\u001b[0m, in \u001b[0;36msavefig\u001b[1;34m(*args, **kwargs)\u001b[0m\n\u001b[0;32m   1116\u001b[0m fig \u001b[38;5;241m=\u001b[39m gcf()\n\u001b[0;32m   1117\u001b[0m \u001b[38;5;66;03m# savefig default implementation has no return, so mypy is unhappy\u001b[39;00m\n\u001b[0;32m   1118\u001b[0m \u001b[38;5;66;03m# presumably this is here because subclasses can return?\u001b[39;00m\n\u001b[1;32m-> 1119\u001b[0m res \u001b[38;5;241m=\u001b[39m fig\u001b[38;5;241m.\u001b[39msavefig(\u001b[38;5;241m*\u001b[39margs, \u001b[38;5;241m*\u001b[39m\u001b[38;5;241m*\u001b[39mkwargs)  \u001b[38;5;66;03m# type: ignore[func-returns-value]\u001b[39;00m\n\u001b[0;32m   1120\u001b[0m fig\u001b[38;5;241m.\u001b[39mcanvas\u001b[38;5;241m.\u001b[39mdraw_idle()  \u001b[38;5;66;03m# Need this if 'transparent=True', to reset colors.\u001b[39;00m\n\u001b[0;32m   1121\u001b[0m \u001b[38;5;28;01mreturn\u001b[39;00m res\n",
      "File \u001b[1;32m~\\anaconda3\\Lib\\site-packages\\matplotlib\\figure.py:3390\u001b[0m, in \u001b[0;36mFigure.savefig\u001b[1;34m(self, fname, transparent, **kwargs)\u001b[0m\n\u001b[0;32m   3388\u001b[0m     \u001b[38;5;28;01mfor\u001b[39;00m ax \u001b[38;5;129;01min\u001b[39;00m \u001b[38;5;28mself\u001b[39m\u001b[38;5;241m.\u001b[39maxes:\n\u001b[0;32m   3389\u001b[0m         _recursively_make_axes_transparent(stack, ax)\n\u001b[1;32m-> 3390\u001b[0m \u001b[38;5;28mself\u001b[39m\u001b[38;5;241m.\u001b[39mcanvas\u001b[38;5;241m.\u001b[39mprint_figure(fname, \u001b[38;5;241m*\u001b[39m\u001b[38;5;241m*\u001b[39mkwargs)\n",
      "File \u001b[1;32m~\\anaconda3\\Lib\\site-packages\\matplotlib\\backend_bases.py:2187\u001b[0m, in \u001b[0;36mFigureCanvasBase.print_figure\u001b[1;34m(self, filename, dpi, facecolor, edgecolor, orientation, format, bbox_inches, pad_inches, bbox_extra_artists, backend, **kwargs)\u001b[0m\n\u001b[0;32m   2183\u001b[0m \u001b[38;5;28;01mtry\u001b[39;00m:\n\u001b[0;32m   2184\u001b[0m     \u001b[38;5;66;03m# _get_renderer may change the figure dpi (as vector formats\u001b[39;00m\n\u001b[0;32m   2185\u001b[0m     \u001b[38;5;66;03m# force the figure dpi to 72), so we need to set it again here.\u001b[39;00m\n\u001b[0;32m   2186\u001b[0m     \u001b[38;5;28;01mwith\u001b[39;00m cbook\u001b[38;5;241m.\u001b[39m_setattr_cm(\u001b[38;5;28mself\u001b[39m\u001b[38;5;241m.\u001b[39mfigure, dpi\u001b[38;5;241m=\u001b[39mdpi):\n\u001b[1;32m-> 2187\u001b[0m         result \u001b[38;5;241m=\u001b[39m print_method(\n\u001b[0;32m   2188\u001b[0m             filename,\n\u001b[0;32m   2189\u001b[0m             facecolor\u001b[38;5;241m=\u001b[39mfacecolor,\n\u001b[0;32m   2190\u001b[0m             edgecolor\u001b[38;5;241m=\u001b[39medgecolor,\n\u001b[0;32m   2191\u001b[0m             orientation\u001b[38;5;241m=\u001b[39morientation,\n\u001b[0;32m   2192\u001b[0m             bbox_inches_restore\u001b[38;5;241m=\u001b[39m_bbox_inches_restore,\n\u001b[0;32m   2193\u001b[0m             \u001b[38;5;241m*\u001b[39m\u001b[38;5;241m*\u001b[39mkwargs)\n\u001b[0;32m   2194\u001b[0m \u001b[38;5;28;01mfinally\u001b[39;00m:\n\u001b[0;32m   2195\u001b[0m     \u001b[38;5;28;01mif\u001b[39;00m bbox_inches \u001b[38;5;129;01mand\u001b[39;00m restore_bbox:\n",
      "File \u001b[1;32m~\\anaconda3\\Lib\\site-packages\\matplotlib\\backend_bases.py:2043\u001b[0m, in \u001b[0;36mFigureCanvasBase._switch_canvas_and_return_print_method.<locals>.<lambda>\u001b[1;34m(*args, **kwargs)\u001b[0m\n\u001b[0;32m   2039\u001b[0m     optional_kws \u001b[38;5;241m=\u001b[39m {  \u001b[38;5;66;03m# Passed by print_figure for other renderers.\u001b[39;00m\n\u001b[0;32m   2040\u001b[0m         \u001b[38;5;124m\"\u001b[39m\u001b[38;5;124mdpi\u001b[39m\u001b[38;5;124m\"\u001b[39m, \u001b[38;5;124m\"\u001b[39m\u001b[38;5;124mfacecolor\u001b[39m\u001b[38;5;124m\"\u001b[39m, \u001b[38;5;124m\"\u001b[39m\u001b[38;5;124medgecolor\u001b[39m\u001b[38;5;124m\"\u001b[39m, \u001b[38;5;124m\"\u001b[39m\u001b[38;5;124morientation\u001b[39m\u001b[38;5;124m\"\u001b[39m,\n\u001b[0;32m   2041\u001b[0m         \u001b[38;5;124m\"\u001b[39m\u001b[38;5;124mbbox_inches_restore\u001b[39m\u001b[38;5;124m\"\u001b[39m}\n\u001b[0;32m   2042\u001b[0m     skip \u001b[38;5;241m=\u001b[39m optional_kws \u001b[38;5;241m-\u001b[39m {\u001b[38;5;241m*\u001b[39minspect\u001b[38;5;241m.\u001b[39msignature(meth)\u001b[38;5;241m.\u001b[39mparameters}\n\u001b[1;32m-> 2043\u001b[0m     print_method \u001b[38;5;241m=\u001b[39m functools\u001b[38;5;241m.\u001b[39mwraps(meth)(\u001b[38;5;28;01mlambda\u001b[39;00m \u001b[38;5;241m*\u001b[39margs, \u001b[38;5;241m*\u001b[39m\u001b[38;5;241m*\u001b[39mkwargs: meth(\n\u001b[0;32m   2044\u001b[0m         \u001b[38;5;241m*\u001b[39margs, \u001b[38;5;241m*\u001b[39m\u001b[38;5;241m*\u001b[39m{k: v \u001b[38;5;28;01mfor\u001b[39;00m k, v \u001b[38;5;129;01min\u001b[39;00m kwargs\u001b[38;5;241m.\u001b[39mitems() \u001b[38;5;28;01mif\u001b[39;00m k \u001b[38;5;129;01mnot\u001b[39;00m \u001b[38;5;129;01min\u001b[39;00m skip}))\n\u001b[0;32m   2045\u001b[0m \u001b[38;5;28;01melse\u001b[39;00m:  \u001b[38;5;66;03m# Let third-parties do as they see fit.\u001b[39;00m\n\u001b[0;32m   2046\u001b[0m     print_method \u001b[38;5;241m=\u001b[39m meth\n",
      "File \u001b[1;32m~\\anaconda3\\Lib\\site-packages\\matplotlib\\backends\\backend_pdf.py:2800\u001b[0m, in \u001b[0;36mFigureCanvasPdf.print_pdf\u001b[1;34m(self, filename, bbox_inches_restore, metadata)\u001b[0m\n\u001b[0;32m   2798\u001b[0m     file \u001b[38;5;241m=\u001b[39m filename\u001b[38;5;241m.\u001b[39m_ensure_file()\n\u001b[0;32m   2799\u001b[0m \u001b[38;5;28;01melse\u001b[39;00m:\n\u001b[1;32m-> 2800\u001b[0m     file \u001b[38;5;241m=\u001b[39m PdfFile(filename, metadata\u001b[38;5;241m=\u001b[39mmetadata)\n\u001b[0;32m   2801\u001b[0m \u001b[38;5;28;01mtry\u001b[39;00m:\n\u001b[0;32m   2802\u001b[0m     file\u001b[38;5;241m.\u001b[39mnewPage(width, height)\n",
      "File \u001b[1;32m~\\anaconda3\\Lib\\site-packages\\matplotlib\\backends\\backend_pdf.py:688\u001b[0m, in \u001b[0;36mPdfFile.__init__\u001b[1;34m(self, filename, metadata)\u001b[0m\n\u001b[0;32m    686\u001b[0m \u001b[38;5;28mself\u001b[39m\u001b[38;5;241m.\u001b[39moriginal_file_like \u001b[38;5;241m=\u001b[39m \u001b[38;5;28;01mNone\u001b[39;00m\n\u001b[0;32m    687\u001b[0m \u001b[38;5;28mself\u001b[39m\u001b[38;5;241m.\u001b[39mtell_base \u001b[38;5;241m=\u001b[39m \u001b[38;5;241m0\u001b[39m\n\u001b[1;32m--> 688\u001b[0m fh, opened \u001b[38;5;241m=\u001b[39m cbook\u001b[38;5;241m.\u001b[39mto_filehandle(filename, \u001b[38;5;124m\"\u001b[39m\u001b[38;5;124mwb\u001b[39m\u001b[38;5;124m\"\u001b[39m, return_opened\u001b[38;5;241m=\u001b[39m\u001b[38;5;28;01mTrue\u001b[39;00m)\n\u001b[0;32m    689\u001b[0m \u001b[38;5;28;01mif\u001b[39;00m \u001b[38;5;129;01mnot\u001b[39;00m opened:\n\u001b[0;32m    690\u001b[0m     \u001b[38;5;28;01mtry\u001b[39;00m:\n",
      "File \u001b[1;32m~\\anaconda3\\Lib\\site-packages\\matplotlib\\cbook.py:483\u001b[0m, in \u001b[0;36mto_filehandle\u001b[1;34m(fname, flag, return_opened, encoding)\u001b[0m\n\u001b[0;32m    481\u001b[0m         fh \u001b[38;5;241m=\u001b[39m bz2\u001b[38;5;241m.\u001b[39mBZ2File(fname, flag)\n\u001b[0;32m    482\u001b[0m     \u001b[38;5;28;01melse\u001b[39;00m:\n\u001b[1;32m--> 483\u001b[0m         fh \u001b[38;5;241m=\u001b[39m \u001b[38;5;28mopen\u001b[39m(fname, flag, encoding\u001b[38;5;241m=\u001b[39mencoding)\n\u001b[0;32m    484\u001b[0m     opened \u001b[38;5;241m=\u001b[39m \u001b[38;5;28;01mTrue\u001b[39;00m\n\u001b[0;32m    485\u001b[0m \u001b[38;5;28;01melif\u001b[39;00m \u001b[38;5;28mhasattr\u001b[39m(fname, \u001b[38;5;124m'\u001b[39m\u001b[38;5;124mseek\u001b[39m\u001b[38;5;124m'\u001b[39m):\n",
      "\u001b[1;31mFileNotFoundError\u001b[0m: [Errno 2] No such file or directory: 'figs/chap05-fig01.pdf'"
     ]
    },
    {
     "data": {
      "image/png": "[encoded data removed]",
      "text/plain": [
       "<Figure size 450x300 with 1 Axes>"
      ]
     },
     "metadata": {},
     "output_type": "display_data"
    }
   ],
   "source": [
    "from matplotlib.pyplot import *\n",
    "plot(census, ':', label='US Census')\n",
    "plot(un, '--', label='UN DESA')\n",
    "    \n",
    "decorate(xlabel='Year',\n",
    "         ylabel='World population (billion)')\n",
    "\n",
    "savefig('figs/chap05-fig01.pdf')"
   ]
  },
  {
   "cell_type": "code",
   "execution_count": null,
   "id": "c4f55d88-c609-4e76-9568-ae81e700b993",
   "metadata": {},
   "outputs": [],
   "source": [
    "max(abs(census - un) / un) * 100"
   ]
  },
  {
   "cell_type": "code",
   "execution_count": null,
   "id": "976ac6d5-d895-46fd-84bb-5ff4a76ca083",
   "metadata": {},
   "outputs": [],
   "source": [
    "#Exercise\n",
    "census - un"
   ]
  },
  {
   "cell_type": "code",
   "execution_count": 37,
   "id": "7387b408-67c6-466f-9c22-a4c63eacf1ee",
   "metadata": {},
   "outputs": [
    {
     "data": {
      "text/plain": [
       "0     0.032480\n",
       "1     0.022089\n",
       "2     0.017480\n",
       "3     0.016188\n",
       "4     0.017056\n",
       "        ...   \n",
       "62    0.066201\n",
       "63    0.069991\n",
       "64    0.073816\n",
       "65    0.101579\n",
       "66         NaN\n",
       "Length: 67, dtype: float64"
      ]
     },
     "execution_count": 37,
     "metadata": {},
     "output_type": "execute_result"
    }
   ],
   "source": [
    "abs(census - un)"
   ]
  },
  {
   "cell_type": "code",
   "execution_count": 38,
   "id": "6b5a2dfd-d0be-4b20-af92-2651b523d696",
   "metadata": {},
   "outputs": [
    {
     "data": {
      "text/plain": [
       "0     0.012862\n",
       "1     0.008585\n",
       "2     0.006674\n",
       "3     0.006072\n",
       "4     0.006286\n",
       "        ...   \n",
       "62    0.009350\n",
       "63    0.009772\n",
       "64    0.010190\n",
       "65    0.013821\n",
       "66         NaN\n",
       "Length: 67, dtype: float64"
      ]
     },
     "execution_count": 38,
     "metadata": {},
     "output_type": "execute_result"
    }
   ],
   "source": [
    "abs(census - un) / un"
   ]
  },
  {
   "cell_type": "code",
   "execution_count": 39,
   "id": "f62542b0-522c-4e59-ad09-4dbda7d626ab",
   "metadata": {},
   "outputs": [
    {
     "data": {
      "text/plain": [
       "0     1.286247\n",
       "1     0.858540\n",
       "2     0.667365\n",
       "3     0.607232\n",
       "4     0.628640\n",
       "        ...   \n",
       "62    0.935034\n",
       "63    0.977243\n",
       "64    1.019023\n",
       "65    1.382129\n",
       "66         NaN\n",
       "Length: 67, dtype: float64"
      ]
     },
     "execution_count": 39,
     "metadata": {},
     "output_type": "execute_result"
    }
   ],
   "source": [
    "abs(census - un) / un * 100"
   ]
  }
 ],
 "metadata": {
  "kernelspec": {
   "display_name": "Python 3 (ipykernel)",
   "language": "python",
   "name": "python3"
  },
  "language_info": {
   "codemirror_mode": {
    "name": "ipython",
    "version": 3
   },
   "file_extension": ".py",
   "mimetype": "text/x-python",
   "name": "python",
   "nbconvert_exporter": "python",
   "pygments_lexer": "ipython3",
   "version": "3.11.7"
  }
 },
 "nbformat": 4,
 "nbformat_minor": 5
}
