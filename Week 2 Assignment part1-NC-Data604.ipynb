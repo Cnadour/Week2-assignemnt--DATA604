{
 "cells": [
  {
   "cell_type": "code",
   "execution_count": 252,
   "id": "0cef4eb2-d3ff-451c-8de6-4be718662d37",
   "metadata": {},
   "outputs": [],
   "source": [
    "# Modeling and Simulation in Python:\n",
    "# Configure Jupyter so figures appear in the notebook\n",
    "%matplotlib inline\n",
    "# Configure Jupyter to display the assigned value after an assignment\n",
    "%config InteractiveShell.ast_node_interactivity='last_expr_or_assign'\n",
    "\n",
    "# import functions from the modsim library\n",
    "from modsim import *\n"
   ]
  },
  {
   "cell_type": "code",
   "execution_count": 253,
   "id": "f5277036-c42f-48f3-9981-6e4c42c9cb78",
   "metadata": {},
   "outputs": [],
   "source": [
    "def add_five(x):\n",
    "    return x + 5"
   ]
  },
  {
   "cell_type": "code",
   "execution_count": 254,
   "id": "0824b13f-79bb-421b-aeb9-4aef4ecf968b",
   "metadata": {},
   "outputs": [
    {
     "data": {
      "text/plain": [
       "8"
      ]
     },
     "execution_count": 254,
     "metadata": {},
     "output_type": "execute_result"
    }
   ],
   "source": [
    "y = add_five(3)"
   ]
  },
  {
   "cell_type": "code",
   "execution_count": 255,
   "id": "afe89743-87e4-410e-901f-77899ad6bd0b",
   "metadata": {},
   "outputs": [
    {
     "data": {
      "text/plain": [
       "10"
      ]
     },
     "execution_count": 255,
     "metadata": {},
     "output_type": "execute_result"
    }
   ],
   "source": [
    "add_five(5)"
   ]
  },
  {
   "cell_type": "code",
   "execution_count": 256,
   "id": "4e3cfc0d-1c46-4dc3-bf7d-a45dd741bf44",
   "metadata": {},
   "outputs": [
    {
     "data": {
      "text/plain": [
       "10"
      ]
     },
     "execution_count": 256,
     "metadata": {},
     "output_type": "execute_result"
    }
   ],
   "source": [
    "add_five(3)\n",
    "add_five(5)"
   ]
  },
  {
   "cell_type": "code",
   "execution_count": 257,
   "id": "d75473fb-a6bc-4bfe-b249-01c007c06fd7",
   "metadata": {},
   "outputs": [
    {
     "name": "stdout",
     "output_type": "stream",
     "text": [
      "8 10\n"
     ]
    }
   ],
   "source": [
    "y1 = add_five(3)\n",
    "y2 = add_five(5)\n",
    "print(y1, y2)"
   ]
  },
  {
   "cell_type": "code",
   "execution_count": 258,
   "id": "d1b94239-e1e3-4b9f-84a3-7821eddd04b6",
   "metadata": {},
   "outputs": [],
   "source": [
    "#Exercise: \n",
    "\n",
    "#Function make state object\n",
    "def make_state():\n",
    "    state = State(olin=10, wellesley=2)\n",
    "    return state  "
   ]
  },
  {
   "cell_type": "code",
   "execution_count": 259,
   "id": "cf4aa5c1-cc32-4a6d-940d-181490437d7d",
   "metadata": {},
   "outputs": [
    {
     "data": {
      "text/plain": [
       "olin         10\n",
       "wellesley     2\n",
       "Name: state, dtype: int64"
      ]
     },
     "execution_count": 259,
     "metadata": {},
     "output_type": "execute_result"
    }
   ],
   "source": [
    "init = make_state() "
   ]
  },
  {
   "cell_type": "code",
   "execution_count": 260,
   "id": "31c350d2-96b8-42dc-9b05-40a9c3dfcef2",
   "metadata": {},
   "outputs": [],
   "source": [
    "#Running simulations:\n",
    "\n",
    "def step(state, p1, p2):\n",
    "    \"\"\"Simulate one minute of time.\n",
    "    \n",
    "    state: bikeshare State object\n",
    "    p1: probability of an Olin->Wellesley customer arrival\n",
    "    p2: probability of a Wellesley->Olin customer arrival\n",
    "    \"\"\"\n",
    "    if flip(p1):\n",
    "        bike_to_wellesley(state)\n",
    "    \n",
    "    if flip(p2):\n",
    "        bike_to_olin(state)\n",
    "        \n",
    "def bike_to_wellesley(state):\n",
    "    \"\"\"Move one bike from Olin to Wellesley.\n",
    "    \n",
    "    state: bikeshare State object\n",
    "    \"\"\"\n",
    "    if state.olin == 0:\n",
    "        state.olin_empty += 1\n",
    "        return\n",
    "    state.olin -= 1\n",
    "    state.wellesley += 1\n",
    "    \n",
    "def bike_to_olin(state):\n",
    "    \"\"\"Move one bike from Wellesley to Olin.\n",
    "    \n",
    "    state: bikeshare State object\n",
    "    \"\"\"\n",
    "    if state.wellesley == 0:\n",
    "        state.wellesley_empty += 1\n",
    "        return\n",
    "    state.wellesley -= 1\n",
    "    state.olin += 1\n",
    "    \n",
    "def decorate_bikeshare():\n",
    "    \"\"\"Add a title and label the axes.\"\"\"\n",
    "    decorate(title='Olin-Wellesley Bikeshare',\n",
    "             xlabel='Time step (min)', \n",
    "             ylabel='Number of bikes')"
   ]
  },
  {
   "cell_type": "code",
   "execution_count": 261,
   "id": "1b76f7d9-24fe-48bb-baf4-cf19c572a6fc",
   "metadata": {},
   "outputs": [],
   "source": [
    "def run_simulation(p1, p2, num_steps):\n",
    "    \"\"\"Simulate the given number of time steps.\n",
    "    \n",
    "    p1: probability of an Olin->Wellesley customer arrival\n",
    "    p2: probability of a Wellesley->Olin customer arrival\n",
    "    num_steps: number of time steps\n",
    "    \"\"\"\n",
    "    state = State(olin=10, wellesley=2, \n",
    "                  olin_empty=0, wellesley_empty=0)\n",
    "                    \n",
    "    for i in range(num_steps):\n",
    "        step(state, p1, p2)\n",
    "        \n",
    "    return state"
   ]
  },
  {
   "cell_type": "code",
   "execution_count": 262,
   "id": "b569ce78-1fbf-4a9d-abcb-8da38dbba008",
   "metadata": {},
   "outputs": [
    {
     "data": {
      "text/plain": [
       "olin                0\n",
       "wellesley          12\n",
       "olin_empty         12\n",
       "wellesley_empty     0\n",
       "Name: state, dtype: int64"
      ]
     },
     "execution_count": 262,
     "metadata": {},
     "output_type": "execute_result"
    }
   ],
   "source": [
    "state = run_simulation(0.4, 0.2, 60)"
   ]
  },
  {
   "cell_type": "code",
   "execution_count": 263,
   "id": "738de044-0e8b-4bf1-a1fa-c9d10a1ae0b5",
   "metadata": {},
   "outputs": [
    {
     "data": {
      "text/plain": [
       "12"
      ]
     },
     "execution_count": 263,
     "metadata": {},
     "output_type": "execute_result"
    }
   ],
   "source": [
    "state.olin_empty"
   ]
  },
  {
   "cell_type": "code",
   "execution_count": 264,
   "id": "6481b944-229f-47a1-ad42-7c8bdb83d077",
   "metadata": {},
   "outputs": [
    {
     "data": {
      "text/plain": [
       "0"
      ]
     },
     "execution_count": 264,
     "metadata": {},
     "output_type": "execute_result"
    }
   ],
   "source": [
    "state = run_simulation(0.2, 0.2, 60)\n",
    "state.olin_empty"
   ]
  },
  {
   "cell_type": "code",
   "execution_count": 265,
   "id": "f0315eac-3734-4406-8209-a1d2e99d38a4",
   "metadata": {},
   "outputs": [
    {
     "data": {
      "text/plain": [
       "13"
      ]
     },
     "execution_count": 265,
     "metadata": {},
     "output_type": "execute_result"
    }
   ],
   "source": [
    "state = run_simulation(0.6, 0.2, 60)\n",
    "state.olin_empty"
   ]
  },
  {
   "cell_type": "code",
   "execution_count": 266,
   "id": "f9f1314d-352b-4a50-b742-483bfc407fe2",
   "metadata": {},
   "outputs": [
    {
     "data": {
      "text/plain": [
       "array([0.  , 0.25, 0.5 , 0.75, 1.  ])"
      ]
     },
     "execution_count": 266,
     "metadata": {},
     "output_type": "execute_result"
    }
   ],
   "source": [
    "# More for loops\n",
    "\n",
    "p1_array = linspace(0, 1, 5)"
   ]
  },
  {
   "cell_type": "code",
   "execution_count": 267,
   "id": "416d174e-6775-4fca-a352-6dc128432cbe",
   "metadata": {},
   "outputs": [
    {
     "name": "stdout",
     "output_type": "stream",
     "text": [
      "0.0\n",
      "0.25\n",
      "0.5\n",
      "0.75\n",
      "1.0\n"
     ]
    }
   ],
   "source": [
    "for p1 in p1_array:\n",
    "    print(p1)"
   ]
  },
  {
   "cell_type": "code",
   "execution_count": 268,
   "id": "f44680fa-4b3b-4040-82f2-22ac3dff8a7e",
   "metadata": {},
   "outputs": [
    {
     "name": "stdout",
     "output_type": "stream",
     "text": [
      "Help on _ArrayFunctionDispatcher in module numpy:\n",
      "\n",
      "linspace(start, stop, num=50, endpoint=True, retstep=False, dtype=None, axis=0)\n",
      "    Return evenly spaced numbers over a specified interval.\n",
      "    \n",
      "    Returns `num` evenly spaced samples, calculated over the\n",
      "    interval [`start`, `stop`].\n",
      "    \n",
      "    The endpoint of the interval can optionally be excluded.\n",
      "    \n",
      "    .. versionchanged:: 1.16.0\n",
      "        Non-scalar `start` and `stop` are now supported.\n",
      "    \n",
      "    .. versionchanged:: 1.20.0\n",
      "        Values are rounded towards ``-inf`` instead of ``0`` when an\n",
      "        integer ``dtype`` is specified. The old behavior can\n",
      "        still be obtained with ``np.linspace(start, stop, num).astype(int)``\n",
      "    \n",
      "    Parameters\n",
      "    ----------\n",
      "    start : array_like\n",
      "        The starting value of the sequence.\n",
      "    stop : array_like\n",
      "        The end value of the sequence, unless `endpoint` is set to False.\n",
      "        In that case, the sequence consists of all but the last of ``num + 1``\n",
      "        evenly spaced samples, so that `stop` is excluded.  Note that the step\n",
      "        size changes when `endpoint` is False.\n",
      "    num : int, optional\n",
      "        Number of samples to generate. Default is 50. Must be non-negative.\n",
      "    endpoint : bool, optional\n",
      "        If True, `stop` is the last sample. Otherwise, it is not included.\n",
      "        Default is True.\n",
      "    retstep : bool, optional\n",
      "        If True, return (`samples`, `step`), where `step` is the spacing\n",
      "        between samples.\n",
      "    dtype : dtype, optional\n",
      "        The type of the output array.  If `dtype` is not given, the data type\n",
      "        is inferred from `start` and `stop`. The inferred dtype will never be\n",
      "        an integer; `float` is chosen even if the arguments would produce an\n",
      "        array of integers.\n",
      "    \n",
      "        .. versionadded:: 1.9.0\n",
      "    \n",
      "    axis : int, optional\n",
      "        The axis in the result to store the samples.  Relevant only if start\n",
      "        or stop are array-like.  By default (0), the samples will be along a\n",
      "        new axis inserted at the beginning. Use -1 to get an axis at the end.\n",
      "    \n",
      "        .. versionadded:: 1.16.0\n",
      "    \n",
      "    Returns\n",
      "    -------\n",
      "    samples : ndarray\n",
      "        There are `num` equally spaced samples in the closed interval\n",
      "        ``[start, stop]`` or the half-open interval ``[start, stop)``\n",
      "        (depending on whether `endpoint` is True or False).\n",
      "    step : float, optional\n",
      "        Only returned if `retstep` is True\n",
      "    \n",
      "        Size of spacing between samples.\n",
      "    \n",
      "    \n",
      "    See Also\n",
      "    --------\n",
      "    arange : Similar to `linspace`, but uses a step size (instead of the\n",
      "             number of samples).\n",
      "    geomspace : Similar to `linspace`, but with numbers spaced evenly on a log\n",
      "                scale (a geometric progression).\n",
      "    logspace : Similar to `geomspace`, but with the end points specified as\n",
      "               logarithms.\n",
      "    :ref:`how-to-partition`\n",
      "    \n",
      "    Examples\n",
      "    --------\n",
      "    >>> np.linspace(2.0, 3.0, num=5)\n",
      "    array([2.  , 2.25, 2.5 , 2.75, 3.  ])\n",
      "    >>> np.linspace(2.0, 3.0, num=5, endpoint=False)\n",
      "    array([2. ,  2.2,  2.4,  2.6,  2.8])\n",
      "    >>> np.linspace(2.0, 3.0, num=5, retstep=True)\n",
      "    (array([2.  ,  2.25,  2.5 ,  2.75,  3.  ]), 0.25)\n",
      "    \n",
      "    Graphical illustration:\n",
      "    \n",
      "    >>> import matplotlib.pyplot as plt\n",
      "    >>> N = 8\n",
      "    >>> y = np.zeros(N)\n",
      "    >>> x1 = np.linspace(0, 10, N, endpoint=True)\n",
      "    >>> x2 = np.linspace(0, 10, N, endpoint=False)\n",
      "    >>> plt.plot(x1, y, 'o')\n",
      "    [<matplotlib.lines.Line2D object at 0x...>]\n",
      "    >>> plt.plot(x2, y + 0.5, 'o')\n",
      "    [<matplotlib.lines.Line2D object at 0x...>]\n",
      "    >>> plt.ylim([-0.5, 1])\n",
      "    (-0.5, 1)\n",
      "    >>> plt.show()\n",
      "\n"
     ]
    }
   ],
   "source": [
    "help(linspace)"
   ]
  },
  {
   "cell_type": "code",
   "execution_count": 269,
   "id": "d01b0e00-d28d-4e40-b119-75fa0285d746",
   "metadata": {},
   "outputs": [
    {
     "data": {
      "text/plain": [
       "array([ 1.,  2.,  3.,  4.,  5.,  6.,  7.,  8.,  9., 10.])"
      ]
     },
     "execution_count": 269,
     "metadata": {},
     "output_type": "execute_result"
    }
   ],
   "source": [
    "#Exercise:\n",
    "\n",
    "np.linspace(1, 10, num=10, endpoint=True)"
   ]
  },
  {
   "cell_type": "code",
   "execution_count": 270,
   "id": "be676775-3460-4c7a-af53-75b47a15d15d",
   "metadata": {},
   "outputs": [
    {
     "name": "stdout",
     "output_type": "stream",
     "text": [
      "Help on function linrange in module modsim:\n",
      "\n",
      "linrange(start, stop=None, step=1)\n",
      "    Make an array of equally spaced values.\n",
      "    \n",
      "    start: first value\n",
      "    stop: last value (might be approximate)\n",
      "    step: difference between elements (should be consistent)\n",
      "    \n",
      "    returns: NumPy array\n",
      "\n"
     ]
    }
   ],
   "source": [
    "help(linrange)"
   ]
  },
  {
   "cell_type": "code",
   "execution_count": 271,
   "id": "e28e0b25-d9ab-44c2-8513-63d3fa11f86f",
   "metadata": {},
   "outputs": [
    {
     "data": {
      "text/plain": [
       "array([ 1.,  3.,  5.,  7.,  9., 11.])"
      ]
     },
     "execution_count": 271,
     "metadata": {},
     "output_type": "execute_result"
    }
   ],
   "source": [
    "import numpy as np\n",
    "linrange(1, 11, 2)"
   ]
  },
  {
   "cell_type": "code",
   "execution_count": 272,
   "id": "b94f1f32-fd4f-455e-8084-7c401e88aa1a",
   "metadata": {},
   "outputs": [
    {
     "data": {
      "text/plain": [
       "array([0. , 0.1, 0.2, 0.3, 0.4, 0.5, 0.6, 0.7, 0.8, 0.9, 1. ])"
      ]
     },
     "execution_count": 272,
     "metadata": {},
     "output_type": "execute_result"
    }
   ],
   "source": [
    "#Sweeping parameters\n",
    "\n",
    "p2 = 0.2\n",
    "num_steps = 60\n",
    "p1_array = linspace(0, 1, 11)"
   ]
  },
  {
   "cell_type": "code",
   "execution_count": 273,
   "id": "ea3618de-9049-4abb-b39c-669322004f71",
   "metadata": {},
   "outputs": [
    {
     "name": "stdout",
     "output_type": "stream",
     "text": [
      "0.0 0\n",
      "0.1 0\n",
      "0.2 0\n",
      "0.30000000000000004 0\n",
      "0.4 10\n",
      "0.5 6\n",
      "0.6000000000000001 12\n",
      "0.7000000000000001 21\n",
      "0.8 31\n",
      "0.9 27\n",
      "1.0 36\n"
     ]
    }
   ],
   "source": [
    "for p1 in p1_array:\n",
    "    state = run_simulation(p1, p2, num_steps)\n",
    "    print(p1, state.olin_empty)"
   ]
  },
  {
   "cell_type": "code",
   "execution_count": 274,
   "id": "2f61689e-bd69-44cc-bbd2-ef81624cffec",
   "metadata": {},
   "outputs": [],
   "source": [
    "sweep = SweepSeries()\n",
    "for p1 in p1_array:\n",
    "    state = run_simulation(p1, p2, num_steps)\n",
    "    sweep[p1] = state.olin_empty"
   ]
  },
  {
   "cell_type": "code",
   "execution_count": 275,
   "id": "6279adfd-ff99-4832-8770-689839d67f66",
   "metadata": {},
   "outputs": [
    {
     "data": {
      "image/png": "[encoded data removed]",
      "text/plain": [
       "<Figure size 450x300 with 1 Axes>"
      ]
     },
     "metadata": {},
     "output_type": "display_data"
    }
   ],
   "source": [
    "plot(sweep, label='Olin')\n",
    "decorate(title='Olin-Wellesley Bikeshare',\n",
    "         xlabel='Arrival rate at Olin (p1 in customers/min)', \n",
    "         ylabel='Number of unhappy customers')"
   ]
  },
  {
   "cell_type": "code",
   "execution_count": 276,
   "id": "ef295881-9604-4acf-94be-2a1de6ed87ca",
   "metadata": {},
   "outputs": [],
   "source": [
    "#Exercises\n",
    "\n",
    "def sweep_p1(p1_array): #takes parameter p1_array\n",
    "    p2 = 0.2 #p2 kept constant\n",
    "    num_steps = 60 #iterations=60\n",
    "    sweep = SweepSeries() #stores in array sweepseries\n",
    "    \n",
    "    for p1 in p1_array:\n",
    "        state = run_simulation(p1, p2, num_steps)\n",
    "        sweep[p1] = state.olin_empty\n",
    "        \n",
    "    return sweep"
   ]
  },
  {
   "cell_type": "code",
   "execution_count": 277,
   "id": "d0f69635-006f-4853-870f-3d0155e7beb0",
   "metadata": {},
   "outputs": [
    {
     "data": {
      "image/png": "[encoded data removed]",
      "text/plain": [
       "<Figure size 450x300 with 1 Axes>"
      ]
     },
     "metadata": {},
     "output_type": "display_data"
    }
   ],
   "source": [
    "p1_array = linspace(0, 1, 11) \n",
    "np.random.seed(123) \n",
    "sweep = sweep_p1(p1_array)\n",
    "plot(sweep, '-b', label='Olin') \n",
    "decorate(title='Olin-Wellesley Bikeshare',\n",
    "         xlabel='Arrival rate at Olin (p1 in customers/min)', \n",
    "         ylabel='Number of unhappy customers')"
   ]
  },
  {
   "cell_type": "code",
   "execution_count": 287,
   "id": "e3b0e755-6dea-4a4f-82cf-263a4c67ef2c",
   "metadata": {},
   "outputs": [],
   "source": [
    "def sweep_p2(p2_array):\n",
    "    p1 = 0.5\n",
    "    num_steps = 60\n",
    "    sweep = SweepSeries() \n",
    "    \n",
    "    for p2 in p2_array:\n",
    "        state = run_simulation(p1, p2, num_steps)\n",
    "        sweep[p2] = state.olin_empty\n",
    "    return sweep"
   ]
  },
  {
   "cell_type": "code",
   "execution_count": 288,
   "id": "5929cce7-f6dd-4b8c-ad42-909c87b94048",
   "metadata": {},
   "outputs": [
    {
     "data": {
      "image/png": "[encoded data removed]",
      "text/plain": [
       "<Figure size 450x300 with 1 Axes>"
      ]
     },
     "metadata": {},
     "output_type": "display_data"
    }
   ],
   "source": [
    "p2_array = linspace(0, 1, 11)\n",
    "np.random.seed(1234)\n",
    "sweep = sweep_p2(p2_array)\n",
    "plot(sweep, '-b', label='Olin')\n",
    "\n",
    "decorate(title='Olin-Wellesley Bikeshare',\n",
    "         xlabel='p2', \n",
    "         ylabel='Number of unhappy customers')"
   ]
  },
  {
   "cell_type": "code",
   "execution_count": 299,
   "id": "da1b3935-71a5-4d92-9755-fc8aa77df609",
   "metadata": {},
   "outputs": [],
   "source": [
    "#Optional Exercises\n",
    "\n",
    "#1.\n",
    "\n",
    "def run_multiple_simulations(p1, p2, num_steps, num_runs):\n",
    "    results = TimeSeries()\n",
    "    for i in range(num_runs):\n",
    "        state = run_simulation(p1, p2, num_steps) #runs the simulation for num_runs\n",
    "        results[i] = state.olin_empty + state.wellesley_empty #total unhappy customers for both\n",
    "    return results"
   ]
  },
  {
   "cell_type": "code",
   "execution_count": 300,
   "id": "eceb4013-cd8e-41ee-98c1-0435db954644",
   "metadata": {},
   "outputs": [
    {
     "data": {
      "text/plain": [
       "Time\n",
       "0    1\n",
       "1    4\n",
       "2    0\n",
       "3    9\n",
       "4    0\n",
       "5    5\n",
       "6    2\n",
       "7    2\n",
       "8    4\n",
       "9    0\n",
       "Name: Quantity, dtype: int64"
      ]
     },
     "execution_count": 300,
     "metadata": {},
     "output_type": "execute_result"
    }
   ],
   "source": [
    "p1 = 0.3\n",
    "p2 = 0.3\n",
    "num_steps = 60\n",
    "num_runs = 10\n",
    "np.random.seed(123)\n",
    "run_multiple_simulations(p1, p2, num_steps, num_runs)"
   ]
  },
  {
   "cell_type": "code",
   "execution_count": 301,
   "id": "7caecb94-7a98-4ea6-b9de-fa013656a10f",
   "metadata": {},
   "outputs": [
    {
     "data": {
      "image/png": "[encoded data removed]",
      "text/plain": [
       "<Figure size 450x300 with 1 Axes>"
      ]
     },
     "metadata": {},
     "output_type": "display_data"
    }
   ],
   "source": [
    "plot(results, label='total', color='purple')  \n",
    "decorate(title='Olin-Wellesley Bikeshare',\n",
    "         xlabel='Arrival rate at Olin (p1 in customers/min)', \n",
    "         ylabel='Average total unhappy customers')"
   ]
  },
  {
   "cell_type": "code",
   "execution_count": 296,
   "id": "a2a1d9c3-c173-405d-a1ee-9ce3cdaa0c1b",
   "metadata": {},
   "outputs": [],
   "source": [
    "p1_array = linspace(0, 1, 11)\n",
    "p2 = 0.3\n",
    "num_steps = 60\n",
    "num_runs = 20\n",
    "\n",
    "sweep = SweepSeries()\n",
    "for p1 in p1_array:\n",
    "    results = run_multiple_simulations(p1, p2, num_steps, num_runs)\n",
    "    sweep[p1] = results.mean()"
   ]
  },
  {
   "cell_type": "code",
   "execution_count": 297,
   "id": "a28d807a-fcc1-40ff-a1e0-c1d8f9d73ba1",
   "metadata": {},
   "outputs": [
    {
     "name": "stdout",
     "output_type": "stream",
     "text": [
      "Value of p1 that minimizes the average number of unhappy customers: 0.4\n"
     ]
    },
    {
     "data": {
      "image/png": "[encoded data removed]",
      "text/plain": [
       "<Figure size 450x300 with 1 Axes>"
      ]
     },
     "metadata": {},
     "output_type": "display_data"
    }
   ],
   "source": [
    "plot(sweep, label='total', color='green')\n",
    "    \n",
    "decorate(title='Olin-Wellesley Bikeshare',\n",
    "         xlabel='Arrival rate at Olin (p1 in customers/min)', \n",
    "         ylabel='Average total unhappy customers')\n",
    "\n",
    "print('Value of p1 that minimizes the average number of unhappy customers:', 0.4)"
   ]
  },
  {
   "cell_type": "code",
   "execution_count": null,
   "id": "11f4cf0b-ac14-4580-be3e-e7c448fb5e68",
   "metadata": {},
   "outputs": [],
   "source": []
  }
 ],
 "metadata": {
  "kernelspec": {
   "display_name": "Python 3 (ipykernel)",
   "language": "python",
   "name": "python3"
  },
  "language_info": {
   "codemirror_mode": {
    "name": "ipython",
    "version": 3
   },
   "file_extension": ".py",
   "mimetype": "text/x-python",
   "name": "python",
   "nbconvert_exporter": "python",
   "pygments_lexer": "ipython3",
   "version": "3.11.7"
  }
 },
 "nbformat": 4,
 "nbformat_minor": 5
}
